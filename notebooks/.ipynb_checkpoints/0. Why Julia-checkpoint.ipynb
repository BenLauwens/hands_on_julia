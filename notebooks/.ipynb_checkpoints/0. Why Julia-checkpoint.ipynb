{
 "cells": [
  {
   "cell_type": "markdown",
   "metadata": {
    "slideshow": {
     "slide_type": "slide"
    }
   },
   "source": [
    "# Why Julia?"
   ]
  },
  {
   "cell_type": "markdown",
   "metadata": {
    "slideshow": {
     "slide_type": "subslide"
    }
   },
   "source": [
    "# Or: WSIWMTLAPL "
   ]
  },
  {
   "cell_type": "markdown",
   "metadata": {
    "slideshow": {
     "slide_type": "fragment"
    }
   },
   "source": [
    "# \"Why should I waste my precious time learning yet another faddish programming language??\""
   ]
  },
  {
   "cell_type": "markdown",
   "metadata": {
    "slideshow": {
     "slide_type": "fragment"
    }
   },
   "source": [
    "[David P. Sanders](http://sistemas.fciencias.unam.mx/~dsanders/)"
   ]
  },
  {
   "cell_type": "markdown",
   "metadata": {
    "slideshow": {
     "slide_type": "slide"
    }
   },
   "source": [
    "# Advantages of Julia"
   ]
  },
  {
   "cell_type": "markdown",
   "metadata": {
    "slideshow": {
     "slide_type": "fragment"
    }
   },
   "source": [
    "Julia is:\n",
    "\n",
    "- high-level and easy to learn\n",
    "- interactive\n",
    "- but Just-In-Time (JIT) compiled"
   ]
  },
  {
   "cell_type": "markdown",
   "metadata": {
    "slideshow": {
     "slide_type": "fragment"
    }
   },
   "source": [
    "So, Julia\n",
    "\n",
    "- is fast (~2-3x C speed)\n",
    "\n",
    "- solves the infamous **two-language problem**\n",
    "\n"
   ]
  },
  {
   "cell_type": "markdown",
   "metadata": {
    "slideshow": {
     "slide_type": "fragment"
    }
   },
   "source": [
    "\n",
    "- Most of the standard library is implemented *in Julia itself* \n",
    "\n",
    "- \"Users are developers\"\n"
   ]
  },
  {
   "cell_type": "markdown",
   "metadata": {
    "slideshow": {
     "slide_type": "subslide"
    }
   },
   "source": [
    "Julia:\n",
    "\n",
    "- has a sophisticated type system\n",
    "- but it is not *necessary* to talk about types\n",
    "\n",
    "- has *multiple dispatch*: functions specialised on the types of their arguments\n",
    "\n"
   ]
  },
  {
   "cell_type": "markdown",
   "metadata": {
    "slideshow": {
     "slide_type": "fragment"
    }
   },
   "source": [
    "\n",
    "- has sophisticated *metaprogramming* (macros) for generating code programatically\n",
    "- allows the creation of domain-specific languages\n"
   ]
  },
  {
   "cell_type": "markdown",
   "metadata": {
    "slideshow": {
     "slide_type": "subslide"
    }
   },
   "source": [
    "Julia is:\n",
    "\n",
    "- open source\n",
    "\n",
    "- free\n",
    "\n",
    "- MIT license (allows commercial use)\n",
    "\n",
    "- developed by a worldwide community"
   ]
  },
  {
   "cell_type": "markdown",
   "metadata": {
    "slideshow": {
     "slide_type": "subslide"
    }
   },
   "source": [
    "Julia is:\n",
    "\n",
    "- a **new direction** in scientific computing"
   ]
  },
  {
   "cell_type": "markdown",
   "metadata": {
    "slideshow": {
     "slide_type": "subslide"
    }
   },
   "source": [
    "Julia is:\n",
    "\n",
    "- the **future** of scientific computing"
   ]
  },
  {
   "cell_type": "markdown",
   "metadata": {
    "slideshow": {
     "slide_type": "slide"
    }
   },
   "source": [
    "# Using Julia"
   ]
  },
  {
   "cell_type": "markdown",
   "metadata": {
    "slideshow": {
     "slide_type": "subslide"
    }
   },
   "source": [
    "- From the REPL (Read--Eval--Print Loop):\n",
    "\n",
    "        julia \n",
    "- Inside IJulia notebook (Jupyter notebook with Julia kernel):\n",
    "\n",
    "        ipython notebook\n",
    "- Inside an IDE, e.g. Juno\n",
    "- In the cloud: [JuliaBox](https://juliabox.org/)"
   ]
  },
  {
   "cell_type": "markdown",
   "metadata": {
    "slideshow": {
     "slide_type": "slide"
    }
   },
   "source": [
    "# Getting help with Julia"
   ]
  },
  {
   "cell_type": "markdown",
   "metadata": {
    "slideshow": {
     "slide_type": "fragment"
    }
   },
   "source": [
    "- [Julia manual](https://docs.julialang.org/en/stable/)\n",
    "- [`julia-users` mailing list](https://discourse.julialang.org/)\n",
    "- [List of resources for learning Julia](http://julialang.org/learning/)\n",
    "\n",
    "\n"
   ]
  },
  {
   "cell_type": "markdown",
   "metadata": {
    "slideshow": {
     "slide_type": "slide"
    }
   },
   "source": [
    "# Goal of the workshop "
   ]
  },
  {
   "cell_type": "markdown",
   "metadata": {
    "slideshow": {
     "slide_type": "subslide"
    }
   },
   "source": [
    "- Get you to feel comfortable working in Julia\n",
    "- Convince you that you are *not* wasting your time\n",
    "- Cover some best practices for scientific computing with Julia\n"
   ]
  },
  {
   "cell_type": "markdown",
   "metadata": {
    "slideshow": {
     "slide_type": "slide"
    }
   },
   "source": [
    "# Structure of the workshop\n",
    "\n",
    "- \"Flipped classroom\" (cf. [Lorena Barba](http://lorenabarba.com/))\n",
    "- Small questions and directed exercises (\"Exercise\")\n",
    "- You work in pairs \n",
    "- **ASK QUESTIONS!**\n",
    "\n"
   ]
  },
  {
   "cell_type": "markdown",
   "metadata": {
    "slideshow": {
     "slide_type": "slide"
    }
   },
   "source": [
    "# Guide to the Jupyter notebook and Juno "
   ]
  }
 ],
 "metadata": {
  "celltoolbar": "Slideshow",
  "kernelspec": {
   "display_name": "Julia 0.6.0",
   "language": "julia",
   "name": "julia-0.6"
  },
  "language_info": {
   "file_extension": ".jl",
   "mimetype": "application/julia",
   "name": "julia",
   "version": "0.6.0"
  }
 },
 "nbformat": 4,
 "nbformat_minor": 1
}
